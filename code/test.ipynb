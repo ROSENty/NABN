{
 "cells": [
  {
   "cell_type": "code",
   "execution_count": 1,
   "id": "262fbdfd-91e3-46f8-b2fa-65b3eae517ed",
   "metadata": {
    "execution": {
     "iopub.execute_input": "2023-10-14T05:17:04.863917Z",
     "iopub.status.busy": "2023-10-14T05:17:04.863799Z",
     "iopub.status.idle": "2023-10-14T05:17:05.698229Z",
     "shell.execute_reply": "2023-10-14T05:17:05.697759Z",
     "shell.execute_reply.started": "2023-10-14T05:17:04.863884Z"
    },
    "tags": []
   },
   "outputs": [],
   "source": [
    "from networks.ResNet_CIFAR_BN import ResNet_20_CIFAR_BN, ResNet_32_CIFAR_BN, ResNet_44_CIFAR_BN\n",
    "from networks.ResNet_CIFAR_NABN import ResNet_20_CIFAR_NABN, ResNet_32_CIFAR_NABN, ResNet_44_CIFAR_NABN\n",
    "from networks.ResNet_CIFAR_GN import ResNet_20_CIFAR_GN, ResNet_32_CIFAR_GN, ResNet_44_CIFAR_GN\n",
    "from networks.ResNet_CIFAR_IN import ResNet_20_CIFAR_IN, ResNet_32_CIFAR_IN, ResNet_44_CIFAR_IN\n",
    "from networks.ResNet_CIFAR_NABN_uniform import ResNet_20_CIFAR_NABN_uniform, ResNet_32_CIFAR_NABN_uniform, ResNet_44_CIFAR_NABN_uniform\n",
    "\n",
    "from networks.ResNet50_BN import ResNet_50_OCT_pneumonia_BN\n",
    "from networks.ResNet50_NABN import ResNet_50_OCT_pneumonia_NABN\n",
    "\n",
    "from networks.UNet_BN import UNet_MSD_liver_BN\n",
    "from networks.UNet_NABN import UNet_MSD_liver_NABN"
   ]
  }
 ],
 "metadata": {
  "kernelspec": {
   "display_name": "Python 3",
   "language": "python",
   "name": "python3"
  },
  "language_info": {
   "codemirror_mode": {
    "name": "ipython",
    "version": 3
   },
   "file_extension": ".py",
   "mimetype": "text/x-python",
   "name": "python",
   "nbconvert_exporter": "python",
   "pygments_lexer": "ipython3",
   "version": "3.8.8"
  }
 },
 "nbformat": 4,
 "nbformat_minor": 5
}
